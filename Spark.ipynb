{
 "cells": [
  {
   "cell_type": "code",
   "execution_count": 1,
   "metadata": {
    "collapsed": true
   },
   "outputs": [],
   "source": [
    "import findspark\n",
    "findspark.init(\"C:\\\\Users\\\\Owner\\\\scoop\\\\apps\\\\spark\\\\current\",)"
   ]
  },
  {
   "cell_type": "markdown",
   "metadata": {},
   "source": [
    "## RDDs"
   ]
  },
  {
   "cell_type": "code",
   "execution_count": 2,
   "metadata": {
    "collapsed": true
   },
   "outputs": [],
   "source": [
    "from pyspark import SparkContext, SparkConf\n",
    "conf = SparkConf()# .setAppName(\"app-name-of-your-choice\").setMaster(\"local[*]\")\n",
    "sc = SparkContext(conf=conf)\n",
    "numbers = sc.parallelize(range(32))"
   ]
  },
  {
   "cell_type": "code",
   "execution_count": 3,
   "metadata": {},
   "outputs": [
    {
     "data": {
      "text/plain": [
       "496"
      ]
     },
     "execution_count": 3,
     "metadata": {},
     "output_type": "execute_result"
    }
   ],
   "source": [
    "numbers.sum()"
   ]
  },
  {
   "cell_type": "code",
   "execution_count": 4,
   "metadata": {},
   "outputs": [
    {
     "data": {
      "text/plain": [
       "32"
      ]
     },
     "execution_count": 4,
     "metadata": {},
     "output_type": "execute_result"
    }
   ],
   "source": [
    "numbers.count()"
   ]
  },
  {
   "cell_type": "code",
   "execution_count": 5,
   "metadata": {},
   "outputs": [
    {
     "name": "stdout",
     "output_type": "stream",
     "text": [
      "[0, 1]\n"
     ]
    }
   ],
   "source": [
    "print(numbers.take(2))"
   ]
  },
  {
   "cell_type": "code",
   "execution_count": 6,
   "metadata": {},
   "outputs": [
    {
     "name": "stdout",
     "output_type": "stream",
     "text": [
      "[0, 1, 2, 3, 4, 5, 6, 7, 8, 9, 10, 11, 12, 13, 14, 15, 16, 17, 18, 19, 20, 21, 22, 23, 24, 25, 26, 27, 28, 29, 30, 31]\n"
     ]
    }
   ],
   "source": [
    "print(numbers.collect())"
   ]
  },
  {
   "cell_type": "code",
   "execution_count": 8,
   "metadata": {},
   "outputs": [
    {
     "data": {
      "text/plain": [
       "PythonRDD[6] at RDD at PythonRDD.scala:52"
      ]
     },
     "execution_count": 8,
     "metadata": {},
     "output_type": "execute_result"
    }
   ],
   "source": [
    "numbers.filter(lambda x: x % 2 == 0)"
   ]
  },
  {
   "cell_type": "code",
   "execution_count": 7,
   "metadata": {},
   "outputs": [
    {
     "data": {
      "text/plain": [
       "16"
      ]
     },
     "execution_count": 7,
     "metadata": {},
     "output_type": "execute_result"
    }
   ],
   "source": [
    "numbers.filter(lambda x: x % 2 == 0).count()"
   ]
  },
  {
   "cell_type": "code",
   "execution_count": 9,
   "metadata": {},
   "outputs": [
    {
     "data": {
      "text/plain": [
       "['2 is even.',\n",
       " '4 is even.',\n",
       " '6 is even.',\n",
       " '8 is even.',\n",
       " '10 is even.',\n",
       " '12 is even.',\n",
       " '14 is even.',\n",
       " '16 is even.',\n",
       " '18 is even.',\n",
       " '20 is even.',\n",
       " '22 is even.',\n",
       " '24 is even.',\n",
       " '26 is even.',\n",
       " '28 is even.',\n",
       " '30 is even.',\n",
       " '32 is even.']"
      ]
     },
     "execution_count": 9,
     "metadata": {},
     "output_type": "execute_result"
    }
   ],
   "source": [
    "(\n",
    "    numbers\n",
    "    .map(lambda x: x + 1)\n",
    "    .filter(lambda x: x % 2 == 0)\n",
    "    .map(lambda x: str(x) + \" is even.\")\n",
    "    .collect()\n",
    ")"
   ]
  },
  {
   "cell_type": "markdown",
   "metadata": {},
   "source": [
    "## Spark Configuration"
   ]
  },
  {
   "cell_type": "code",
   "execution_count": 10,
   "metadata": {},
   "outputs": [
    {
     "data": {
      "text/html": [
       "\n",
       "        <div>\n",
       "            <p><b>SparkContext</b></p>\n",
       "\n",
       "            <p><a href=\"http://Kai-Laptop:4040\">Spark UI</a></p>\n",
       "\n",
       "            <dl>\n",
       "              <dt>Version</dt>\n",
       "                <dd><code>v2.3.2</code></dd>\n",
       "              <dt>Master</dt>\n",
       "                <dd><code>local[*]</code></dd>\n",
       "              <dt>AppName</dt>\n",
       "                <dd><code>pyspark-shell</code></dd>\n",
       "            </dl>\n",
       "        </div>\n",
       "        "
      ],
      "text/plain": [
       "<SparkContext master=local[*] appName=pyspark-shell>"
      ]
     },
     "execution_count": 10,
     "metadata": {},
     "output_type": "execute_result"
    }
   ],
   "source": [
    "sc"
   ]
  },
  {
   "cell_type": "code",
   "execution_count": 11,
   "metadata": {},
   "outputs": [
    {
     "data": {
      "text/plain": [
       "4024"
      ]
     },
     "execution_count": 11,
     "metadata": {},
     "output_type": "execute_result"
    }
   ],
   "source": [
    "import os\n",
    "os.getpid()"
   ]
  },
  {
   "cell_type": "code",
   "execution_count": 12,
   "metadata": {},
   "outputs": [
    {
     "data": {
      "text/plain": [
       "[12040, 11720, 3544, 2588, 6668, 12972, 2676, 10476]"
      ]
     },
     "execution_count": 12,
     "metadata": {},
     "output_type": "execute_result"
    }
   ],
   "source": [
    "numbers.map(lambda x: os.getpid()).distinct().collect()"
   ]
  },
  {
   "cell_type": "markdown",
   "metadata": {},
   "source": [
    "## Example"
   ]
  },
  {
   "cell_type": "code",
   "execution_count": 13,
   "metadata": {},
   "outputs": [
    {
     "name": "stderr",
     "output_type": "stream",
     "text": [
      "C:\\Users\\Owner\\scoop\\apps\\anaconda3\\5.3.1\\lib\\site-packages\\scipy\\stats\\stats.py:1713: FutureWarning: Using a non-tuple sequence for multidimensional indexing is deprecated; use `arr[tuple(seq)]` instead of `arr[seq]`. In the future this will be interpreted as an array index, `arr[np.array(seq)]`, which will result either in an error or a different result.\n",
      "  return np.add.reduce(sorted[indexer] * weights, axis=axis) / sumval\n"
     ]
    },
    {
     "data": {
      "image/png": "[encoded data removed]",
      "text/plain": [
       "<Figure size 432x288 with 1 Axes>"
      ]
     },
     "metadata": {
      "needs_background": "light"
     },
     "output_type": "display_data"
    }
   ],
   "source": [
    "import numpy as np\n",
    "import pandas as pd\n",
    "import seaborn as sns\n",
    "import matplotlib.pyplot as plt\n",
    "\n",
    "%matplotlib inline\n",
    "\n",
    "np.random.seed(42)\n",
    "\n",
    "simulated_data = np.random.randn(\n",
    "    100000)**2 - 5 * np.abs(np.random.randn(100000))\n",
    "sns.distplot(simulated_data)"
   ]
  },
  {
   "cell_type": "code",
   "execution_count": 14,
   "metadata": {
    "collapsed": true
   },
   "outputs": [],
   "source": [
    "def resample(data, seed):\n",
    "    import numpy as np\n",
    "    np.random.seed(seed)\n",
    "    return data[np.random.randint(0, len(data), len(data))]\n",
    "\n",
    "\n",
    "def boot_strap_mean(data, seed):\n",
    "    return resample(data, seed).mean()"
   ]
  },
  {
   "cell_type": "code",
   "execution_count": 15,
   "metadata": {},
   "outputs": [
    {
     "data": {
      "text/plain": [
       "-2.9750892668808113"
      ]
     },
     "execution_count": 15,
     "metadata": {},
     "output_type": "execute_result"
    }
   ],
   "source": [
    "boot_strap_mean(simulated_data, 43)"
   ]
  },
  {
   "cell_type": "code",
   "execution_count": 16,
   "metadata": {
    "collapsed": true
   },
   "outputs": [],
   "source": [
    "seeds = np.arange(10000) + 42\n",
    "samples = (\n",
    "    sc.parallelize(seeds)\n",
    "    .map(lambda seed: boot_strap_mean(simulated_data, seed))\n",
    ")"
   ]
  },
  {
   "cell_type": "code",
   "execution_count": 17,
   "metadata": {},
   "outputs": [
    {
     "data": {
      "text/plain": [
       "10000"
      ]
     },
     "execution_count": 17,
     "metadata": {},
     "output_type": "execute_result"
    }
   ],
   "source": [
    "samples.count()"
   ]
  },
  {
   "cell_type": "code",
   "execution_count": 18,
   "metadata": {},
   "outputs": [
    {
     "data": {
      "text/plain": [
       "-2.9832881825775894"
      ]
     },
     "execution_count": 18,
     "metadata": {},
     "output_type": "execute_result"
    }
   ],
   "source": [
    "samples.mean()"
   ]
  },
  {
   "cell_type": "code",
   "execution_count": 19,
   "metadata": {},
   "outputs": [
    {
     "data": {
      "text/plain": [
       "<matplotlib.axes._subplots.AxesSubplot at 0x2b82276a7f0>"
      ]
     },
     "execution_count": 19,
     "metadata": {},
     "output_type": "execute_result"
    },
    {
     "data": {
      "image/png": "[encoded data removed]",
      "text/plain": [
       "<Figure size 432x288 with 1 Axes>"
      ]
     },
     "metadata": {
      "needs_background": "light"
     },
     "output_type": "display_data"
    }
   ],
   "source": [
    "sns.distplot(samples.collect())"
   ]
  },
  {
   "cell_type": "markdown",
   "metadata": {},
   "source": [
    "## Caching"
   ]
  },
  {
   "cell_type": "code",
   "execution_count": 20,
   "metadata": {},
   "outputs": [
    {
     "name": "stdout",
     "output_type": "stream",
     "text": [
      "9.24 s ± 753 ms per loop (mean ± std. dev. of 7 runs, 1 loop each)\n"
     ]
    }
   ],
   "source": [
    "%%timeit\n",
    "\n",
    "samples.mean()"
   ]
  },
  {
   "cell_type": "code",
   "execution_count": 21,
   "metadata": {},
   "outputs": [
    {
     "data": {
      "text/plain": [
       "PythonRDD[16] at collect at <ipython-input-19-271f851ee8a8>:1"
      ]
     },
     "execution_count": 21,
     "metadata": {},
     "output_type": "execute_result"
    }
   ],
   "source": [
    "samples.persist()"
   ]
  },
  {
   "cell_type": "code",
   "execution_count": 22,
   "metadata": {},
   "outputs": [
    {
     "data": {
      "text/plain": [
       "-2.9832881825775894"
      ]
     },
     "execution_count": 22,
     "metadata": {},
     "output_type": "execute_result"
    }
   ],
   "source": [
    "samples.mean()"
   ]
  },
  {
   "cell_type": "code",
   "execution_count": 23,
   "metadata": {
    "scrolled": true
   },
   "outputs": [
    {
     "name": "stdout",
     "output_type": "stream",
     "text": [
      "3.49 s ± 67 ms per loop (mean ± std. dev. of 7 runs, 1 loop each)\n"
     ]
    }
   ],
   "source": [
    "%%timeit \n",
    "samples.mean()"
   ]
  },
  {
   "cell_type": "markdown",
   "metadata": {},
   "source": [
    "Local Execution"
   ]
  },
  {
   "cell_type": "code",
   "execution_count": 24,
   "metadata": {},
   "outputs": [
    {
     "name": "stdout",
     "output_type": "stream",
     "text": [
      "12.7 s ± 257 ms per loop (mean ± std. dev. of 7 runs, 1 loop each)\n"
     ]
    }
   ],
   "source": [
    "%%timeit \n",
    "samples_local = np.array([\n",
    "    boot_strap_mean(simulated_data, seed)\n",
    "for seed in seeds])"
   ]
  },
  {
   "cell_type": "markdown",
   "metadata": {},
   "source": [
    "## Texting Parsing"
   ]
  },
  {
   "cell_type": "code",
   "execution_count": 25,
   "metadata": {
    "collapsed": true
   },
   "outputs": [],
   "source": [
    "raw_lines = sc.textFile(\"accor_data.txt\")"
   ]
  },
  {
   "cell_type": "code",
   "execution_count": 26,
   "metadata": {},
   "outputs": [],
   "source": [
    "import json"
   ]
  },
  {
   "cell_type": "code",
   "execution_count": 27,
   "metadata": {},
   "outputs": [],
   "source": [
    "records = raw_lines.filter(lambda x: x != '').map(lambda x: json.loads(x))"
   ]
  },
  {
   "cell_type": "code",
   "execution_count": 28,
   "metadata": {},
   "outputs": [
    {
     "data": {
      "text/plain": [
       "[{'created_at': 'Sat Dec 08 03:46:45 +0000 2018',\n",
       "  'id': 1071249696654450688,\n",
       "  'id_str': '1071249696654450688',\n",
       "  'text': 'BOYS: FAIRMONT SENIOR POLAR BEARS 77, WYOMING EAST WARRIORS 58 (FAIRMONT SENIOR TOURNAMENT). More final scores: https://t.co/h8yMyFuPjr',\n",
       "  'source': '<a href=\"http://www.basketballnight.com\" rel=\"nofollow\">Basketball Night</a>',\n",
       "  'truncated': False,\n",
       "  'in_reply_to_status_id': None,\n",
       "  'in_reply_to_status_id_str': None,\n",
       "  'in_reply_to_user_id': None,\n",
       "  'in_reply_to_user_id_str': None,\n",
       "  'in_reply_to_screen_name': None,\n",
       "  'user': {'id': 865717002,\n",
       "   'id_str': '865717002',\n",
       "   'name': 'Basketball Night',\n",
       "   'screen_name': 'Hoops_Roundup',\n",
       "   'location': 'West Virginia',\n",
       "   'url': 'https://basketballnight.com',\n",
       "   'description': '3 hour live radio show recapping WV high school basketball every Friday night 9pm-midnight across West Virginia. WATCH OR LISTEN: https://t.co/7q0ilTGv7s',\n",
       "   'translator_type': 'none',\n",
       "   'protected': False,\n",
       "   'verified': False,\n",
       "   'followers_count': 4285,\n",
       "   'friends_count': 867,\n",
       "   'listed_count': 21,\n",
       "   'favourites_count': 7656,\n",
       "   'statuses_count': 30730,\n",
       "   'created_at': 'Sun Oct 07 03:53:59 +0000 2012',\n",
       "   'utc_offset': None,\n",
       "   'time_zone': None,\n",
       "   'geo_enabled': True,\n",
       "   'lang': 'en',\n",
       "   'contributors_enabled': False,\n",
       "   'is_translator': False,\n",
       "   'profile_background_color': '000000',\n",
       "   'profile_background_image_url': 'http://abs.twimg.com/images/themes/theme1/bg.png',\n",
       "   'profile_background_image_url_https': 'https://abs.twimg.com/images/themes/theme1/bg.png',\n",
       "   'profile_background_tile': False,\n",
       "   'profile_link_color': '0084B4',\n",
       "   'profile_sidebar_border_color': 'FFFFFF',\n",
       "   'profile_sidebar_fill_color': 'DDEEF6',\n",
       "   'profile_text_color': '333333',\n",
       "   'profile_use_background_image': True,\n",
       "   'profile_image_url': 'http://pbs.twimg.com/profile_images/413417364013596672/ggBVIdaY_normal.jpeg',\n",
       "   'profile_image_url_https': 'https://pbs.twimg.com/profile_images/413417364013596672/ggBVIdaY_normal.jpeg',\n",
       "   'profile_banner_url': 'https://pbs.twimg.com/profile_banners/865717002/1518299044',\n",
       "   'default_profile': False,\n",
       "   'default_profile_image': False,\n",
       "   'following': None,\n",
       "   'follow_request_sent': None,\n",
       "   'notifications': None},\n",
       "  'geo': None,\n",
       "  'coordinates': None,\n",
       "  'place': None,\n",
       "  'contributors': None,\n",
       "  'is_quote_status': False,\n",
       "  'quote_count': 0,\n",
       "  'reply_count': 0,\n",
       "  'retweet_count': 0,\n",
       "  'favorite_count': 0,\n",
       "  'entities': {'hashtags': [],\n",
       "   'urls': [{'url': 'https://t.co/h8yMyFuPjr',\n",
       "     'expanded_url': 'http://basketballnight.com/scoreboard',\n",
       "     'display_url': 'basketballnight.com/scoreboard',\n",
       "     'indices': [112, 135]}],\n",
       "   'user_mentions': [],\n",
       "   'symbols': []},\n",
       "  'favorited': False,\n",
       "  'retweeted': False,\n",
       "  'possibly_sensitive': False,\n",
       "  'filter_level': 'low',\n",
       "  'lang': 'en',\n",
       "  'timestamp_ms': '1544240805196'},\n",
       " {'created_at': 'Sat Dec 08 03:46:47 +0000 2018',\n",
       "  'id': 1071249707198861312,\n",
       "  'id_str': '1071249707198861312',\n",
       "  'text': '3月〜！！\\n\\n受験受かってはぴはぴになりながら従姉妹の家で遊んだのが1番楽しかった…\\nIbis paintと少しずつ和解しだしたのもここ。',\n",
       "  'source': '<a href=\"http://twitter.com/download/android\" rel=\"nofollow\">Twitter for Android</a>',\n",
       "  'truncated': False,\n",
       "  'in_reply_to_status_id': 1071218756955791360,\n",
       "  'in_reply_to_status_id_str': '1071218756955791360',\n",
       "  'in_reply_to_user_id': 1025136590513827840,\n",
       "  'in_reply_to_user_id_str': '1025136590513827840',\n",
       "  'in_reply_to_screen_name': 'chilisa__',\n",
       "  'user': {'id': 1025136590513827840,\n",
       "   'id_str': '1025136590513827840',\n",
       "   'name': '🍏ちさ🍎紅組',\n",
       "   'screen_name': 'chilisa__',\n",
       "   'location': '有償依頼◎DMにて✨',\n",
       "   'url': None,\n",
       "   'description': 'ご気軽に声掛けて下さい！\\n\\n創作企画垢→【 @chilisa0522 】\\n\\n\\nお題箱→【 http://odaibako.net/u/chilisa__ 】\\n\\n英語ＯＫ\\n\\n無断転載、二次配布等禁止',\n",
       "   'translator_type': 'none',\n",
       "   'protected': False,\n",
       "   'verified': False,\n",
       "   'followers_count': 430,\n",
       "   'friends_count': 348,\n",
       "   'listed_count': 18,\n",
       "   'favourites_count': 3440,\n",
       "   'statuses_count': 2109,\n",
       "   'created_at': 'Thu Aug 02 21:49:44 +0000 2018',\n",
       "   'utc_offset': None,\n",
       "   'time_zone': None,\n",
       "   'geo_enabled': False,\n",
       "   'lang': 'ja',\n",
       "   'contributors_enabled': False,\n",
       "   'is_translator': False,\n",
       "   'profile_background_color': 'F5F8FA',\n",
       "   'profile_background_image_url': '',\n",
       "   'profile_background_image_url_https': '',\n",
       "   'profile_background_tile': False,\n",
       "   'profile_link_color': '1DA1F2',\n",
       "   'profile_sidebar_border_color': 'C0DEED',\n",
       "   'profile_sidebar_fill_color': 'DDEEF6',\n",
       "   'profile_text_color': '333333',\n",
       "   'profile_use_background_image': True,\n",
       "   'profile_image_url': 'http://pbs.twimg.com/profile_images/1071183083473227776/BmWPaF56_normal.png',\n",
       "   'profile_image_url_https': 'https://pbs.twimg.com/profile_images/1071183083473227776/BmWPaF56_normal.png',\n",
       "   'profile_banner_url': 'https://pbs.twimg.com/profile_banners/1025136590513827840/1542625489',\n",
       "   'default_profile': True,\n",
       "   'default_profile_image': False,\n",
       "   'following': None,\n",
       "   'follow_request_sent': None,\n",
       "   'notifications': None},\n",
       "  'geo': None,\n",
       "  'coordinates': None,\n",
       "  'place': None,\n",
       "  'contributors': None,\n",
       "  'is_quote_status': False,\n",
       "  'quote_count': 0,\n",
       "  'reply_count': 0,\n",
       "  'retweet_count': 0,\n",
       "  'favorite_count': 0,\n",
       "  'entities': {'hashtags': [], 'urls': [], 'user_mentions': [], 'symbols': []},\n",
       "  'favorited': False,\n",
       "  'retweeted': False,\n",
       "  'filter_level': 'low',\n",
       "  'lang': 'ja',\n",
       "  'timestamp_ms': '1544240807710'},\n",
       " {'created_at': 'Sat Dec 08 03:46:50 +0000 2018',\n",
       "  'id': 1071249718318063616,\n",
       "  'id_str': '1071249718318063616',\n",
       "  'text': 'RT @SunDevilWBB: Hey @NkealHarry15,\\n\\nWe’re big Kianna Ibis fans too 😏 https://t.co/nYUNuYKGoc',\n",
       "  'source': '<a href=\"http://twitter.com/download/iphone\" rel=\"nofollow\">Twitter for iPhone</a>',\n",
       "  'truncated': False,\n",
       "  'in_reply_to_status_id': None,\n",
       "  'in_reply_to_status_id_str': None,\n",
       "  'in_reply_to_user_id': None,\n",
       "  'in_reply_to_user_id_str': None,\n",
       "  'in_reply_to_screen_name': None,\n",
       "  'user': {'id': 2707313278,\n",
       "   'id_str': '2707313278',\n",
       "   'name': 'gianna',\n",
       "   'screen_name': 'GiannaMendiola',\n",
       "   'location': None,\n",
       "   'url': None,\n",
       "   'description': '18 | ASU’21',\n",
       "   'translator_type': 'none',\n",
       "   'protected': False,\n",
       "   'verified': False,\n",
       "   'followers_count': 1404,\n",
       "   'friends_count': 830,\n",
       "   'listed_count': 1,\n",
       "   'favourites_count': 20999,\n",
       "   'statuses_count': 10772,\n",
       "   'created_at': 'Sun Jul 13 15:03:45 +0000 2014',\n",
       "   'utc_offset': None,\n",
       "   'time_zone': None,\n",
       "   'geo_enabled': True,\n",
       "   'lang': 'en',\n",
       "   'contributors_enabled': False,\n",
       "   'is_translator': False,\n",
       "   'profile_background_color': 'C0DEED',\n",
       "   'profile_background_image_url': 'http://abs.twimg.com/images/themes/theme1/bg.png',\n",
       "   'profile_background_image_url_https': 'https://abs.twimg.com/images/themes/theme1/bg.png',\n",
       "   'profile_background_tile': False,\n",
       "   'profile_link_color': '1DA1F2',\n",
       "   'profile_sidebar_border_color': 'C0DEED',\n",
       "   'profile_sidebar_fill_color': 'DDEEF6',\n",
       "   'profile_text_color': '333333',\n",
       "   'profile_use_background_image': True,\n",
       "   'profile_image_url': 'http://pbs.twimg.com/profile_images/1068413979473600513/6-jUoIb-_normal.jpg',\n",
       "   'profile_image_url_https': 'https://pbs.twimg.com/profile_images/1068413979473600513/6-jUoIb-_normal.jpg',\n",
       "   'profile_banner_url': 'https://pbs.twimg.com/profile_banners/2707313278/1541683343',\n",
       "   'default_profile': True,\n",
       "   'default_profile_image': False,\n",
       "   'following': None,\n",
       "   'follow_request_sent': None,\n",
       "   'notifications': None},\n",
       "  'geo': None,\n",
       "  'coordinates': None,\n",
       "  'place': None,\n",
       "  'contributors': None,\n",
       "  'retweeted_status': {'created_at': 'Sat Dec 08 02:25:11 +0000 2018',\n",
       "   'id': 1071229170846289921,\n",
       "   'id_str': '1071229170846289921',\n",
       "   'text': 'Hey @NkealHarry15,\\n\\nWe’re big Kianna Ibis fans too 😏 https://t.co/nYUNuYKGoc',\n",
       "   'display_text_range': [0, 52],\n",
       "   'source': '<a href=\"http://twitter.com/download/iphone\" rel=\"nofollow\">Twitter for iPhone</a>',\n",
       "   'truncated': False,\n",
       "   'in_reply_to_status_id': None,\n",
       "   'in_reply_to_status_id_str': None,\n",
       "   'in_reply_to_user_id': None,\n",
       "   'in_reply_to_user_id_str': None,\n",
       "   'in_reply_to_screen_name': None,\n",
       "   'user': {'id': 34052723,\n",
       "    'id_str': '34052723',\n",
       "    'name': 'Sun Devil WBB',\n",
       "    'screen_name': 'SunDevilWBB',\n",
       "    'location': 'Tempe, AZ',\n",
       "    'url': 'http://Instagram.com/sundevilwbb',\n",
       "    'description': \"The official Twitter account of the Arizona State Sun Devils women's basketball team. #SunDevilStrong #ForksUp\",\n",
       "    'translator_type': 'none',\n",
       "    'protected': False,\n",
       "    'verified': True,\n",
       "    'followers_count': 7802,\n",
       "    'friends_count': 882,\n",
       "    'listed_count': 196,\n",
       "    'favourites_count': 3586,\n",
       "    'statuses_count': 13143,\n",
       "    'created_at': 'Tue Apr 21 21:39:35 +0000 2009',\n",
       "    'utc_offset': None,\n",
       "    'time_zone': None,\n",
       "    'geo_enabled': True,\n",
       "    'lang': 'en',\n",
       "    'contributors_enabled': False,\n",
       "    'is_translator': False,\n",
       "    'profile_background_color': 'A61403',\n",
       "    'profile_background_image_url': 'http://abs.twimg.com/images/themes/theme1/bg.png',\n",
       "    'profile_background_image_url_https': 'https://abs.twimg.com/images/themes/theme1/bg.png',\n",
       "    'profile_background_tile': True,\n",
       "    'profile_link_color': '010A14',\n",
       "    'profile_sidebar_border_color': '000000',\n",
       "    'profile_sidebar_fill_color': 'A61403',\n",
       "    'profile_text_color': 'F6C609',\n",
       "    'profile_use_background_image': True,\n",
       "    'profile_image_url': 'http://pbs.twimg.com/profile_images/911350650352500737/En_JXg_K_normal.jpg',\n",
       "    'profile_image_url_https': 'https://pbs.twimg.com/profile_images/911350650352500737/En_JXg_K_normal.jpg',\n",
       "    'profile_banner_url': 'https://pbs.twimg.com/profile_banners/34052723/1537552959',\n",
       "    'default_profile': False,\n",
       "    'default_profile_image': False,\n",
       "    'following': None,\n",
       "    'follow_request_sent': None,\n",
       "    'notifications': None},\n",
       "   'geo': None,\n",
       "   'coordinates': None,\n",
       "   'place': None,\n",
       "   'contributors': None,\n",
       "   'is_quote_status': False,\n",
       "   'quote_count': 5,\n",
       "   'reply_count': 2,\n",
       "   'retweet_count': 48,\n",
       "   'favorite_count': 302,\n",
       "   'entities': {'hashtags': [],\n",
       "    'urls': [],\n",
       "    'user_mentions': [{'screen_name': 'NkealHarry15',\n",
       "      'name': 'Keal',\n",
       "      'id': 855641011,\n",
       "      'id_str': '855641011',\n",
       "      'indices': [4, 17]}],\n",
       "    'symbols': [],\n",
       "    'media': [{'id': 1071229071386800129,\n",
       "      'id_str': '1071229071386800129',\n",
       "      'indices': [53, 76],\n",
       "      'additional_media_info': {'monetizable': False},\n",
       "      'media_url': 'http://pbs.twimg.com/ext_tw_video_thumb/1071229071386800129/pu/img/3A_XkNTXTCSNJkyY.jpg',\n",
       "      'media_url_https': 'https://pbs.twimg.com/ext_tw_video_thumb/1071229071386800129/pu/img/3A_XkNTXTCSNJkyY.jpg',\n",
       "      'url': 'https://t.co/nYUNuYKGoc',\n",
       "      'display_url': 'pic.twitter.com/nYUNuYKGoc',\n",
       "      'expanded_url': 'https://twitter.com/SunDevilWBB/status/1071229170846289921/video/1',\n",
       "      'type': 'photo',\n",
       "      'sizes': {'thumb': {'w': 150, 'h': 150, 'resize': 'crop'},\n",
       "       'small': {'w': 383, 'h': 680, 'resize': 'fit'},\n",
       "       'large': {'w': 720, 'h': 1280, 'resize': 'fit'},\n",
       "       'medium': {'w': 675, 'h': 1200, 'resize': 'fit'}}}]},\n",
       "   'extended_entities': {'media': [{'id': 1071229071386800129,\n",
       "      'id_str': '1071229071386800129',\n",
       "      'indices': [53, 76],\n",
       "      'additional_media_info': {'monetizable': False},\n",
       "      'media_url': 'http://pbs.twimg.com/ext_tw_video_thumb/1071229071386800129/pu/img/3A_XkNTXTCSNJkyY.jpg',\n",
       "      'media_url_https': 'https://pbs.twimg.com/ext_tw_video_thumb/1071229071386800129/pu/img/3A_XkNTXTCSNJkyY.jpg',\n",
       "      'url': 'https://t.co/nYUNuYKGoc',\n",
       "      'display_url': 'pic.twitter.com/nYUNuYKGoc',\n",
       "      'expanded_url': 'https://twitter.com/SunDevilWBB/status/1071229170846289921/video/1',\n",
       "      'type': 'video',\n",
       "      'video_info': {'aspect_ratio': [9, 16],\n",
       "       'duration_millis': 11480,\n",
       "       'variants': [{'bitrate': 2176000,\n",
       "         'content_type': 'video/mp4',\n",
       "         'url': 'https://video.twimg.com/ext_tw_video/1071229071386800129/pu/vid/720x1280/8N2TXDr0mhzapC2I.mp4?tag=6'},\n",
       "        {'bitrate': 632000,\n",
       "         'content_type': 'video/mp4',\n",
       "         'url': 'https://video.twimg.com/ext_tw_video/1071229071386800129/pu/vid/320x568/MR-5LF2edw2ld0uS.mp4?tag=6'},\n",
       "        {'content_type': 'application/x-mpegURL',\n",
       "         'url': 'https://video.twimg.com/ext_tw_video/1071229071386800129/pu/pl/WZ7NIuZYtil4fu5h.m3u8?tag=6'},\n",
       "        {'bitrate': 832000,\n",
       "         'content_type': 'video/mp4',\n",
       "         'url': 'https://video.twimg.com/ext_tw_video/1071229071386800129/pu/vid/360x640/Lgk2JdIVXd9-tk4b.mp4?tag=6'}]},\n",
       "      'sizes': {'thumb': {'w': 150, 'h': 150, 'resize': 'crop'},\n",
       "       'small': {'w': 383, 'h': 680, 'resize': 'fit'},\n",
       "       'large': {'w': 720, 'h': 1280, 'resize': 'fit'},\n",
       "       'medium': {'w': 675, 'h': 1200, 'resize': 'fit'}}}]},\n",
       "   'favorited': False,\n",
       "   'retweeted': False,\n",
       "   'possibly_sensitive': False,\n",
       "   'filter_level': 'low',\n",
       "   'lang': 'en'},\n",
       "  'is_quote_status': False,\n",
       "  'quote_count': 0,\n",
       "  'reply_count': 0,\n",
       "  'retweet_count': 0,\n",
       "  'favorite_count': 0,\n",
       "  'entities': {'hashtags': [],\n",
       "   'urls': [],\n",
       "   'user_mentions': [{'screen_name': 'SunDevilWBB',\n",
       "     'name': 'Sun Devil WBB',\n",
       "     'id': 34052723,\n",
       "     'id_str': '34052723',\n",
       "     'indices': [3, 15]},\n",
       "    {'screen_name': 'NkealHarry15',\n",
       "     'name': 'Keal',\n",
       "     'id': 855641011,\n",
       "     'id_str': '855641011',\n",
       "     'indices': [21, 34]}],\n",
       "   'symbols': [],\n",
       "   'media': [{'id': 1071229071386800129,\n",
       "     'id_str': '1071229071386800129',\n",
       "     'indices': [70, 93],\n",
       "     'additional_media_info': {'monetizable': False},\n",
       "     'media_url': 'http://pbs.twimg.com/ext_tw_video_thumb/1071229071386800129/pu/img/3A_XkNTXTCSNJkyY.jpg',\n",
       "     'media_url_https': 'https://pbs.twimg.com/ext_tw_video_thumb/1071229071386800129/pu/img/3A_XkNTXTCSNJkyY.jpg',\n",
       "     'url': 'https://t.co/nYUNuYKGoc',\n",
       "     'display_url': 'pic.twitter.com/nYUNuYKGoc',\n",
       "     'expanded_url': 'https://twitter.com/SunDevilWBB/status/1071229170846289921/video/1',\n",
       "     'type': 'photo',\n",
       "     'sizes': {'thumb': {'w': 150, 'h': 150, 'resize': 'crop'},\n",
       "      'small': {'w': 383, 'h': 680, 'resize': 'fit'},\n",
       "      'large': {'w': 720, 'h': 1280, 'resize': 'fit'},\n",
       "      'medium': {'w': 675, 'h': 1200, 'resize': 'fit'}},\n",
       "     'source_status_id': 1071229170846289921,\n",
       "     'source_status_id_str': '1071229170846289921',\n",
       "     'source_user_id': 34052723,\n",
       "     'source_user_id_str': '34052723'}]},\n",
       "  'extended_entities': {'media': [{'id': 1071229071386800129,\n",
       "     'id_str': '1071229071386800129',\n",
       "     'indices': [70, 93],\n",
       "     'additional_media_info': {'monetizable': False},\n",
       "     'media_url': 'http://pbs.twimg.com/ext_tw_video_thumb/1071229071386800129/pu/img/3A_XkNTXTCSNJkyY.jpg',\n",
       "     'media_url_https': 'https://pbs.twimg.com/ext_tw_video_thumb/1071229071386800129/pu/img/3A_XkNTXTCSNJkyY.jpg',\n",
       "     'url': 'https://t.co/nYUNuYKGoc',\n",
       "     'display_url': 'pic.twitter.com/nYUNuYKGoc',\n",
       "     'expanded_url': 'https://twitter.com/SunDevilWBB/status/1071229170846289921/video/1',\n",
       "     'type': 'video',\n",
       "     'video_info': {'aspect_ratio': [9, 16],\n",
       "      'duration_millis': 11480,\n",
       "      'variants': [{'bitrate': 2176000,\n",
       "        'content_type': 'video/mp4',\n",
       "        'url': 'https://video.twimg.com/ext_tw_video/1071229071386800129/pu/vid/720x1280/8N2TXDr0mhzapC2I.mp4?tag=6'},\n",
       "       {'bitrate': 632000,\n",
       "        'content_type': 'video/mp4',\n",
       "        'url': 'https://video.twimg.com/ext_tw_video/1071229071386800129/pu/vid/320x568/MR-5LF2edw2ld0uS.mp4?tag=6'},\n",
       "       {'content_type': 'application/x-mpegURL',\n",
       "        'url': 'https://video.twimg.com/ext_tw_video/1071229071386800129/pu/pl/WZ7NIuZYtil4fu5h.m3u8?tag=6'},\n",
       "       {'bitrate': 832000,\n",
       "        'content_type': 'video/mp4',\n",
       "        'url': 'https://video.twimg.com/ext_tw_video/1071229071386800129/pu/vid/360x640/Lgk2JdIVXd9-tk4b.mp4?tag=6'}]},\n",
       "     'sizes': {'thumb': {'w': 150, 'h': 150, 'resize': 'crop'},\n",
       "      'small': {'w': 383, 'h': 680, 'resize': 'fit'},\n",
       "      'large': {'w': 720, 'h': 1280, 'resize': 'fit'},\n",
       "      'medium': {'w': 675, 'h': 1200, 'resize': 'fit'}},\n",
       "     'source_status_id': 1071229170846289921,\n",
       "     'source_status_id_str': '1071229170846289921',\n",
       "     'source_user_id': 34052723,\n",
       "     'source_user_id_str': '34052723'}]},\n",
       "  'favorited': False,\n",
       "  'retweeted': False,\n",
       "  'possibly_sensitive': False,\n",
       "  'filter_level': 'low',\n",
       "  'lang': 'en',\n",
       "  'timestamp_ms': '1544240810361'}]"
      ]
     },
     "execution_count": 28,
     "metadata": {},
     "output_type": "execute_result"
    }
   ],
   "source": [
    "records.take(3)"
   ]
  },
  {
   "cell_type": "code",
   "execution_count": 29,
   "metadata": {},
   "outputs": [
    {
     "data": {
      "text/plain": [
       "714"
      ]
     },
     "execution_count": 29,
     "metadata": {},
     "output_type": "execute_result"
    }
   ],
   "source": [
    "records.filter(lambda x: x['lang'] == 'en').count()"
   ]
  },
  {
   "cell_type": "code",
   "execution_count": 30,
   "metadata": {},
   "outputs": [
    {
     "data": {
      "text/plain": [
       "[1, 2, 3, 4]"
      ]
     },
     "execution_count": 30,
     "metadata": {},
     "output_type": "execute_result"
    }
   ],
   "source": [
    "sc.range(1,5).collect()"
   ]
  },
  {
   "cell_type": "code",
   "execution_count": 31,
   "metadata": {},
   "outputs": [
    {
     "data": {
      "text/plain": [
       "[[0], [0, 1], [0, 1, 2], [0, 1, 2, 3]]"
      ]
     },
     "execution_count": 31,
     "metadata": {},
     "output_type": "execute_result"
    }
   ],
   "source": [
    "sc.range(1,5).map(lambda x: [i for i in range(x) ]).collect()"
   ]
  },
  {
   "cell_type": "code",
   "execution_count": 32,
   "metadata": {},
   "outputs": [
    {
     "data": {
      "text/plain": [
       "[0, 0, 1, 0, 1, 2, 0, 1, 2, 3]"
      ]
     },
     "execution_count": 32,
     "metadata": {},
     "output_type": "execute_result"
    }
   ],
   "source": [
    "sc.range(1,5).flatMap(lambda x: [i for i in range(x) ]).collect()"
   ]
  },
  {
   "cell_type": "code",
   "execution_count": 33,
   "metadata": {
    "collapsed": true
   },
   "outputs": [],
   "source": [
    "word_counts = (\n",
    "    records\n",
    "        .map(lambda x: x['text'])     # extract the text\n",
    "        .flatMap(lambda x: x.split()) # split on whitespace and\n",
    "                                      # convert each word into a separate record.\n",
    "        .filter(lambda x: len(x) > 2) # keep words that have 3 or more letters\n",
    "        .map(lambda x: (x, 1))           # Count each word \n",
    "        .reduceByKey(lambda a, b: a + b) # Sum the counts\n",
    ")"
   ]
  },
  {
   "cell_type": "code",
   "execution_count": 34,
   "metadata": {},
   "outputs": [
    {
     "data": {
      "text/plain": [
       "[(2124, 'MERCI'),\n",
       " (538, 'est'),\n",
       " (534, 'Bercy'),\n",
       " (531, 'replay.'),\n",
       " (531, '4ème'),\n",
       " (530, 'https://t.co/bQN3hcWNGJ'),\n",
       " (530, '@Orel_san:'),\n",
       " (310, 'the'),\n",
       " (248, 'for'),\n",
       " (241, 'Fairmont')]"
      ]
     },
     "execution_count": 34,
     "metadata": {},
     "output_type": "execute_result"
    }
   ],
   "source": [
    "word_counts.map(lambda x: (x[1], x[0])).top(10)"
   ]
  },
  {
   "cell_type": "raw",
   "metadata": {},
   "source": [
    "word_counts_by_label = (\n",
    "    records\n",
    "        .flatMap(lambda x: ((x['label'], w) for w in x['text'].split()))    \n",
    "        .filter(lambda x: len(x[1]) > 2) # keep words that have 3 or more letters\n",
    "        .map(lambda x:  # Count each word \n",
    "             (x[1], np.array([1.0, 0.0]) if x[0] == 'spam' else np.array([0.0, 1.0])  ))          \n",
    "        .reduceByKey(lambda a, b: a + b) # Sum the counts\n",
    ")"
   ]
  },
  {
   "cell_type": "raw",
   "metadata": {},
   "source": [
    "word_counts_by_label.take(3)"
   ]
  },
  {
   "cell_type": "markdown",
   "metadata": {},
   "source": [
    "# Spark DataFrames"
   ]
  },
  {
   "cell_type": "code",
   "execution_count": 35,
   "metadata": {},
   "outputs": [
    {
     "data": {
      "text/plain": [
       "pyspark.rdd.PipelinedRDD"
      ]
     },
     "execution_count": 35,
     "metadata": {},
     "output_type": "execute_result"
    }
   ],
   "source": [
    "type(records)"
   ]
  },
  {
   "cell_type": "code",
   "execution_count": 36,
   "metadata": {},
   "outputs": [],
   "source": [
    "from pyspark.sql import SparkSession\n",
    "spark = SparkSession(sc)"
   ]
  },
  {
   "cell_type": "code",
   "execution_count": 37,
   "metadata": {},
   "outputs": [
    {
     "data": {
      "text/html": [
       "\n",
       "            <div>\n",
       "                <p><b>SparkSession - in-memory</b></p>\n",
       "                \n",
       "        <div>\n",
       "            <p><b>SparkContext</b></p>\n",
       "\n",
       "            <p><a href=\"http://Kai-Laptop:4040\">Spark UI</a></p>\n",
       "\n",
       "            <dl>\n",
       "              <dt>Version</dt>\n",
       "                <dd><code>v2.3.2</code></dd>\n",
       "              <dt>Master</dt>\n",
       "                <dd><code>local[*]</code></dd>\n",
       "              <dt>AppName</dt>\n",
       "                <dd><code>pyspark-shell</code></dd>\n",
       "            </dl>\n",
       "        </div>\n",
       "        \n",
       "            </div>\n",
       "        "
      ],
      "text/plain": [
       "<pyspark.sql.session.SparkSession at 0x2b8228945f8>"
      ]
     },
     "execution_count": 37,
     "metadata": {},
     "output_type": "execute_result"
    }
   ],
   "source": [
    "spark"
   ]
  },
  {
   "cell_type": "code",
   "execution_count": 38,
   "metadata": {},
   "outputs": [],
   "source": [
    "df = records.map(lambda x: [x['text']]).toDF()"
   ]
  },
  {
   "cell_type": "code",
   "execution_count": 39,
   "metadata": {},
   "outputs": [
    {
     "name": "stdout",
     "output_type": "stream",
     "text": [
      "+--------------------+\n",
      "|                  _1|\n",
      "+--------------------+\n",
      "|BOYS: FAIRMONT SE...|\n",
      "|3月〜！！\n",
      "\n",
      "受験受かってはぴはぴ...|\n",
      "|RT @SunDevilWBB: ...|\n",
      "|RT @DPrez304: Div...|\n",
      "|愛媛のIBISっていう上級大尉にレ...|\n",
      "|Karthik kickstart...|\n",
      "|I just entered th...|\n",
      "|Roadblock at the ...|\n",
      "|RT @NRsports_NC: ...|\n",
      "|I just entered th...|\n",
      "|First drawing on ...|\n",
      "|Mala idea venir a...|\n",
      "|@ibisiro Ibis noO...|\n",
      "|Fairmont Jakarta:...|\n",
      "|RT @SunDevilWBB: ...|\n",
      "|Le Club AccorHote...|\n",
      "|RT @JoshMLowe: 17...|\n",
      "|#NoTePases Te qui...|\n",
      "|同じibisで塗ったっていうのが信...|\n",
      "|@beltrandelrio @F...|\n",
      "+--------------------+\n",
      "only showing top 20 rows\n",
      "\n"
     ]
    }
   ],
   "source": [
    "df.show()"
   ]
  },
  {
   "cell_type": "code",
   "execution_count": 40,
   "metadata": {},
   "outputs": [
    {
     "data": {
      "text/html": [
       "<div>\n",
       "<style scoped>\n",
       "    .dataframe tbody tr th:only-of-type {\n",
       "        vertical-align: middle;\n",
       "    }\n",
       "\n",
       "    .dataframe tbody tr th {\n",
       "        vertical-align: top;\n",
       "    }\n",
       "\n",
       "    .dataframe thead th {\n",
       "        text-align: right;\n",
       "    }\n",
       "</style>\n",
       "<table border=\"1\" class=\"dataframe\">\n",
       "  <thead>\n",
       "    <tr style=\"text-align: right;\">\n",
       "      <th></th>\n",
       "      <th>_1</th>\n",
       "    </tr>\n",
       "  </thead>\n",
       "  <tbody>\n",
       "    <tr>\n",
       "      <th>0</th>\n",
       "      <td>BOYS: FAIRMONT SENIOR POLAR BEARS 77, WYOMING ...</td>\n",
       "    </tr>\n",
       "    <tr>\n",
       "      <th>1</th>\n",
       "      <td>3月〜！！\\n\\n受験受かってはぴはぴになりながら従姉妹の家で遊んだのが1番楽しかった…\\n...</td>\n",
       "    </tr>\n",
       "    <tr>\n",
       "      <th>2</th>\n",
       "      <td>RT @SunDevilWBB: Hey @NkealHarry15,\\n\\nWe’re b...</td>\n",
       "    </tr>\n",
       "    <tr>\n",
       "      <th>3</th>\n",
       "      <td>RT @DPrez304: Division 1 schools are sleeping ...</td>\n",
       "    </tr>\n",
       "    <tr>\n",
       "      <th>4</th>\n",
       "      <td>愛媛のIBISっていう上級大尉にレクスで覚醒使わず2落ちという捨てゲーされた😭</td>\n",
       "    </tr>\n",
       "  </tbody>\n",
       "</table>\n",
       "</div>"
      ],
      "text/plain": [
       "                                                  _1\n",
       "0  BOYS: FAIRMONT SENIOR POLAR BEARS 77, WYOMING ...\n",
       "1  3月〜！！\\n\\n受験受かってはぴはぴになりながら従姉妹の家で遊んだのが1番楽しかった…\\n...\n",
       "2  RT @SunDevilWBB: Hey @NkealHarry15,\\n\\nWe’re b...\n",
       "3  RT @DPrez304: Division 1 schools are sleeping ...\n",
       "4            愛媛のIBISっていう上級大尉にレクスで覚醒使わず2落ちという捨てゲーされた😭"
      ]
     },
     "execution_count": 40,
     "metadata": {},
     "output_type": "execute_result"
    }
   ],
   "source": [
    "pandas_df = df.toPandas()\n",
    "pandas_df.head()"
   ]
  },
  {
   "cell_type": "raw",
   "metadata": {},
   "source": [
    "(\n",
    "    df.groupBy(df['label']).agg(\n",
    "        F.avg(F.length(df['text'])).alias(\"avg_len\"),\n",
    "        F.stddev(F.length(df['text'])).alias(\"stdev_len\")\n",
    "    )\n",
    ").toPandas()"
   ]
  },
  {
   "cell_type": "raw",
   "metadata": {},
   "source": [
    "df.registerTempTable(\"spam\")"
   ]
  },
  {
   "cell_type": "raw",
   "metadata": {},
   "source": [
    "spark.sql(\"\"\"\n",
    "    SELECT label, avg(length(text))\n",
    "    FROM spam\n",
    "    GROUP BY label\n",
    "\"\"\").toPandas()"
   ]
  }
 ],
 "metadata": {
  "anaconda-cloud": {},
  "kernelspec": {
   "display_name": "Python 3",
   "language": "python",
   "name": "python3"
  },
  "language_info": {
   "codemirror_mode": {
    "name": "ipython",
    "version": 3
   },
   "file_extension": ".py",
   "mimetype": "text/x-python",
   "name": "python",
   "nbconvert_exporter": "python",
   "pygments_lexer": "ipython3",
   "version": "3.6.7"
  }
 },
 "nbformat": 4,
 "nbformat_minor": 2
}

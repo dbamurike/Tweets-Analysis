{
 "cells": [
  {
   "cell_type": "markdown",
   "metadata": {},
   "source": [
    "# Spark Configuration"
   ]
  },
  {
   "cell_type": "code",
   "execution_count": 1,
   "metadata": {},
   "outputs": [],
   "source": [
    "import findspark\n",
    "findspark.init(\"C:\\\\Users\\\\Owner\\\\scoop\\\\apps\\\\spark\\\\current\",)"
   ]
  },
  {
   "cell_type": "code",
   "execution_count": 2,
   "metadata": {},
   "outputs": [],
   "source": [
    "from pyspark import SparkContext, SparkConf\n",
    "conf = SparkConf()# .setAppName(\"app-name-of-your-choice\").setMaster(\"local[*]\")\n",
    "sc = SparkContext(conf=conf)"
   ]
  },
  {
   "cell_type": "code",
   "execution_count": 3,
   "metadata": {},
   "outputs": [],
   "source": [
    "from pyspark.sql import SparkSession\n",
    "spark = SparkSession(sc)"
   ]
  },
  {
   "cell_type": "code",
   "execution_count": 4,
   "metadata": {},
   "outputs": [
    {
     "data": {
      "text/html": [
       "\n",
       "        <div>\n",
       "            <p><b>SparkContext</b></p>\n",
       "\n",
       "            <p><a href=\"http://Kai-Laptop:4040\">Spark UI</a></p>\n",
       "\n",
       "            <dl>\n",
       "              <dt>Version</dt>\n",
       "                <dd><code>v2.3.2</code></dd>\n",
       "              <dt>Master</dt>\n",
       "                <dd><code>local[*]</code></dd>\n",
       "              <dt>AppName</dt>\n",
       "                <dd><code>pyspark-shell</code></dd>\n",
       "            </dl>\n",
       "        </div>\n",
       "        "
      ],
      "text/plain": [
       "<SparkContext master=local[*] appName=pyspark-shell>"
      ]
     },
     "execution_count": 4,
     "metadata": {},
     "output_type": "execute_result"
    }
   ],
   "source": [
    "sc"
   ]
  },
  {
   "cell_type": "code",
   "execution_count": 5,
   "metadata": {},
   "outputs": [
    {
     "data": {
      "text/html": [
       "\n",
       "            <div>\n",
       "                <p><b>SparkSession - in-memory</b></p>\n",
       "                \n",
       "        <div>\n",
       "            <p><b>SparkContext</b></p>\n",
       "\n",
       "            <p><a href=\"http://Kai-Laptop:4040\">Spark UI</a></p>\n",
       "\n",
       "            <dl>\n",
       "              <dt>Version</dt>\n",
       "                <dd><code>v2.3.2</code></dd>\n",
       "              <dt>Master</dt>\n",
       "                <dd><code>local[*]</code></dd>\n",
       "              <dt>AppName</dt>\n",
       "                <dd><code>pyspark-shell</code></dd>\n",
       "            </dl>\n",
       "        </div>\n",
       "        \n",
       "            </div>\n",
       "        "
      ],
      "text/plain": [
       "<pyspark.sql.session.SparkSession at 0x1dbf6664d30>"
      ]
     },
     "execution_count": 5,
     "metadata": {},
     "output_type": "execute_result"
    }
   ],
   "source": [
    "spark"
   ]
  },
  {
   "cell_type": "markdown",
   "metadata": {},
   "source": [
    "# Texting Parsing"
   ]
  },
  {
   "cell_type": "code",
   "execution_count": 6,
   "metadata": {},
   "outputs": [],
   "source": [
    "import pandas as pd \n",
    "import json"
   ]
  },
  {
   "cell_type": "markdown",
   "metadata": {},
   "source": [
    "Input data file"
   ]
  },
  {
   "cell_type": "code",
   "execution_count": 7,
   "metadata": {},
   "outputs": [],
   "source": [
    "raw_lines = sc.textFile(\"accor_data.txt\")"
   ]
  },
  {
   "cell_type": "code",
   "execution_count": 8,
   "metadata": {},
   "outputs": [],
   "source": [
    "records = raw_lines.filter(lambda x: x != '').map(lambda x: json.loads(x))"
   ]
  },
  {
   "cell_type": "code",
   "execution_count": 10,
   "metadata": {
    "scrolled": true
   },
   "outputs": [
    {
     "data": {
      "text/plain": [
       "[{'created_at': 'Sat Dec 08 03:46:45 +0000 2018',\n",
       "  'id': 1071249696654450688,\n",
       "  'id_str': '1071249696654450688',\n",
       "  'text': 'BOYS: FAIRMONT SENIOR POLAR BEARS 77, WYOMING EAST WARRIORS 58 (FAIRMONT SENIOR TOURNAMENT). More final scores: https://t.co/h8yMyFuPjr',\n",
       "  'source': '<a href=\"http://www.basketballnight.com\" rel=\"nofollow\">Basketball Night</a>',\n",
       "  'truncated': False,\n",
       "  'in_reply_to_status_id': None,\n",
       "  'in_reply_to_status_id_str': None,\n",
       "  'in_reply_to_user_id': None,\n",
       "  'in_reply_to_user_id_str': None,\n",
       "  'in_reply_to_screen_name': None,\n",
       "  'user': {'id': 865717002,\n",
       "   'id_str': '865717002',\n",
       "   'name': 'Basketball Night',\n",
       "   'screen_name': 'Hoops_Roundup',\n",
       "   'location': 'West Virginia',\n",
       "   'url': 'https://basketballnight.com',\n",
       "   'description': '3 hour live radio show recapping WV high school basketball every Friday night 9pm-midnight across West Virginia. WATCH OR LISTEN: https://t.co/7q0ilTGv7s',\n",
       "   'translator_type': 'none',\n",
       "   'protected': False,\n",
       "   'verified': False,\n",
       "   'followers_count': 4285,\n",
       "   'friends_count': 867,\n",
       "   'listed_count': 21,\n",
       "   'favourites_count': 7656,\n",
       "   'statuses_count': 30730,\n",
       "   'created_at': 'Sun Oct 07 03:53:59 +0000 2012',\n",
       "   'utc_offset': None,\n",
       "   'time_zone': None,\n",
       "   'geo_enabled': True,\n",
       "   'lang': 'en',\n",
       "   'contributors_enabled': False,\n",
       "   'is_translator': False,\n",
       "   'profile_background_color': '000000',\n",
       "   'profile_background_image_url': 'http://abs.twimg.com/images/themes/theme1/bg.png',\n",
       "   'profile_background_image_url_https': 'https://abs.twimg.com/images/themes/theme1/bg.png',\n",
       "   'profile_background_tile': False,\n",
       "   'profile_link_color': '0084B4',\n",
       "   'profile_sidebar_border_color': 'FFFFFF',\n",
       "   'profile_sidebar_fill_color': 'DDEEF6',\n",
       "   'profile_text_color': '333333',\n",
       "   'profile_use_background_image': True,\n",
       "   'profile_image_url': 'http://pbs.twimg.com/profile_images/413417364013596672/ggBVIdaY_normal.jpeg',\n",
       "   'profile_image_url_https': 'https://pbs.twimg.com/profile_images/413417364013596672/ggBVIdaY_normal.jpeg',\n",
       "   'profile_banner_url': 'https://pbs.twimg.com/profile_banners/865717002/1518299044',\n",
       "   'default_profile': False,\n",
       "   'default_profile_image': False,\n",
       "   'following': None,\n",
       "   'follow_request_sent': None,\n",
       "   'notifications': None},\n",
       "  'geo': None,\n",
       "  'coordinates': None,\n",
       "  'place': None,\n",
       "  'contributors': None,\n",
       "  'is_quote_status': False,\n",
       "  'quote_count': 0,\n",
       "  'reply_count': 0,\n",
       "  'retweet_count': 0,\n",
       "  'favorite_count': 0,\n",
       "  'entities': {'hashtags': [],\n",
       "   'urls': [{'url': 'https://t.co/h8yMyFuPjr',\n",
       "     'expanded_url': 'http://basketballnight.com/scoreboard',\n",
       "     'display_url': 'basketballnight.com/scoreboard',\n",
       "     'indices': [112, 135]}],\n",
       "   'user_mentions': [],\n",
       "   'symbols': []},\n",
       "  'favorited': False,\n",
       "  'retweeted': False,\n",
       "  'possibly_sensitive': False,\n",
       "  'filter_level': 'low',\n",
       "  'lang': 'en',\n",
       "  'timestamp_ms': '1544240805196'},\n",
       " {'created_at': 'Sat Dec 08 03:46:47 +0000 2018',\n",
       "  'id': 1071249707198861312,\n",
       "  'id_str': '1071249707198861312',\n",
       "  'text': '3月〜！！\\n\\n受験受かってはぴはぴになりながら従姉妹の家で遊んだのが1番楽しかった…\\nIbis paintと少しずつ和解しだしたのもここ。',\n",
       "  'source': '<a href=\"http://twitter.com/download/android\" rel=\"nofollow\">Twitter for Android</a>',\n",
       "  'truncated': False,\n",
       "  'in_reply_to_status_id': 1071218756955791360,\n",
       "  'in_reply_to_status_id_str': '1071218756955791360',\n",
       "  'in_reply_to_user_id': 1025136590513827840,\n",
       "  'in_reply_to_user_id_str': '1025136590513827840',\n",
       "  'in_reply_to_screen_name': 'chilisa__',\n",
       "  'user': {'id': 1025136590513827840,\n",
       "   'id_str': '1025136590513827840',\n",
       "   'name': '🍏ちさ🍎紅組',\n",
       "   'screen_name': 'chilisa__',\n",
       "   'location': '有償依頼◎DMにて✨',\n",
       "   'url': None,\n",
       "   'description': 'ご気軽に声掛けて下さい！\\n\\n創作企画垢→【 @chilisa0522 】\\n\\n\\nお題箱→【 http://odaibako.net/u/chilisa__ 】\\n\\n英語ＯＫ\\n\\n無断転載、二次配布等禁止',\n",
       "   'translator_type': 'none',\n",
       "   'protected': False,\n",
       "   'verified': False,\n",
       "   'followers_count': 430,\n",
       "   'friends_count': 348,\n",
       "   'listed_count': 18,\n",
       "   'favourites_count': 3440,\n",
       "   'statuses_count': 2109,\n",
       "   'created_at': 'Thu Aug 02 21:49:44 +0000 2018',\n",
       "   'utc_offset': None,\n",
       "   'time_zone': None,\n",
       "   'geo_enabled': False,\n",
       "   'lang': 'ja',\n",
       "   'contributors_enabled': False,\n",
       "   'is_translator': False,\n",
       "   'profile_background_color': 'F5F8FA',\n",
       "   'profile_background_image_url': '',\n",
       "   'profile_background_image_url_https': '',\n",
       "   'profile_background_tile': False,\n",
       "   'profile_link_color': '1DA1F2',\n",
       "   'profile_sidebar_border_color': 'C0DEED',\n",
       "   'profile_sidebar_fill_color': 'DDEEF6',\n",
       "   'profile_text_color': '333333',\n",
       "   'profile_use_background_image': True,\n",
       "   'profile_image_url': 'http://pbs.twimg.com/profile_images/1071183083473227776/BmWPaF56_normal.png',\n",
       "   'profile_image_url_https': 'https://pbs.twimg.com/profile_images/1071183083473227776/BmWPaF56_normal.png',\n",
       "   'profile_banner_url': 'https://pbs.twimg.com/profile_banners/1025136590513827840/1542625489',\n",
       "   'default_profile': True,\n",
       "   'default_profile_image': False,\n",
       "   'following': None,\n",
       "   'follow_request_sent': None,\n",
       "   'notifications': None},\n",
       "  'geo': None,\n",
       "  'coordinates': None,\n",
       "  'place': None,\n",
       "  'contributors': None,\n",
       "  'is_quote_status': False,\n",
       "  'quote_count': 0,\n",
       "  'reply_count': 0,\n",
       "  'retweet_count': 0,\n",
       "  'favorite_count': 0,\n",
       "  'entities': {'hashtags': [], 'urls': [], 'user_mentions': [], 'symbols': []},\n",
       "  'favorited': False,\n",
       "  'retweeted': False,\n",
       "  'filter_level': 'low',\n",
       "  'lang': 'ja',\n",
       "  'timestamp_ms': '1544240807710'}]"
      ]
     },
     "execution_count": 10,
     "metadata": {},
     "output_type": "execute_result"
    }
   ],
   "source": [
    "records.take(2)"
   ]
  },
  {
   "cell_type": "code",
   "execution_count": 11,
   "metadata": {},
   "outputs": [
    {
     "data": {
      "text/plain": [
       "1887"
      ]
     },
     "execution_count": 11,
     "metadata": {},
     "output_type": "execute_result"
    }
   ],
   "source": [
    "records.count()"
   ]
  },
  {
   "cell_type": "markdown",
   "metadata": {},
   "source": [
    "text exploration"
   ]
  },
  {
   "cell_type": "code",
   "execution_count": 12,
   "metadata": {},
   "outputs": [],
   "source": [
    "word_counts = (\n",
    "    records\n",
    "    .map(lambda x: x['text'])     # extract the text\n",
    "    .flatMap(lambda x: x.split())  # split on whitespace and\n",
    "    # convert each word into a separate record.\n",
    "    .filter(lambda x: len(x) > 3)  # keep words that have 3 or more letters\n",
    "    .map(lambda x: (x, 1))           # Count each word\n",
    "    .reduceByKey(lambda a, b: a + b)  # Sum the counts\n",
    ")"
   ]
  },
  {
   "cell_type": "code",
   "execution_count": 13,
   "metadata": {},
   "outputs": [
    {
     "data": {
      "text/plain": [
       "[(2124, 'MERCI'),\n",
       " (534, 'Bercy'),\n",
       " (531, 'replay.'),\n",
       " (531, '4ème'),\n",
       " (530, 'https://t.co/bQN3hcWNGJ'),\n",
       " (530, '@Orel_san:'),\n",
       " (241, 'Fairmont'),\n",
       " (150, 'Ibis'),\n",
       " (127, 'Sofitel'),\n",
       " (119, 'AccorHotels')]"
      ]
     },
     "execution_count": 13,
     "metadata": {},
     "output_type": "execute_result"
    }
   ],
   "source": [
    "word_counts.map(lambda x: (x[1], x[0])).top(10)"
   ]
  },
  {
   "cell_type": "code",
   "execution_count": 14,
   "metadata": {},
   "outputs": [],
   "source": [
    "lang_counts = (\n",
    "    records\n",
    "    .map(lambda x: x['lang'])     # extract the text\n",
    "    #.flatMap(lambda x: x.split())  # split on whitespace and\n",
    "    # convert each word into a separate record.\n",
    "    #.filter(lambda x: len(x) > 3)  # keep words that have 3 or more letters\n",
    "    .map(lambda x: (x, 1))           # Count each word\n",
    "    .reduceByKey(lambda a, b: a + b)  # Sum the counts\n",
    ")"
   ]
  },
  {
   "cell_type": "code",
   "execution_count": 15,
   "metadata": {},
   "outputs": [
    {
     "data": {
      "text/plain": [
       "[(714, 'en'),\n",
       " (713, 'fr'),\n",
       " (177, 'ja'),\n",
       " (58, 'und'),\n",
       " (36, 'in'),\n",
       " (28, 'es'),\n",
       " (27, 'pt'),\n",
       " (23, 'tl'),\n",
       " (21, 'de'),\n",
       " (20, 'th')]"
      ]
     },
     "execution_count": 15,
     "metadata": {},
     "output_type": "execute_result"
    }
   ],
   "source": [
    "lang_counts.map(lambda x: (x[1], x[0])).top(10)"
   ]
  },
  {
   "cell_type": "markdown",
   "metadata": {},
   "source": [
    "# Spark DataFrames"
   ]
  },
  {
   "cell_type": "code",
   "execution_count": 16,
   "metadata": {},
   "outputs": [
    {
     "data": {
      "text/plain": [
       "pyspark.rdd.PipelinedRDD"
      ]
     },
     "execution_count": 16,
     "metadata": {},
     "output_type": "execute_result"
    }
   ],
   "source": [
    "type(records)"
   ]
  },
  {
   "cell_type": "code",
   "execution_count": 17,
   "metadata": {},
   "outputs": [],
   "source": [
    "df = records.map(lambda x: [x['text']]).toDF()"
   ]
  },
  {
   "cell_type": "code",
   "execution_count": 18,
   "metadata": {},
   "outputs": [
    {
     "name": "stdout",
     "output_type": "stream",
     "text": [
      "+--------------------+\n",
      "|                  _1|\n",
      "+--------------------+\n",
      "|BOYS: FAIRMONT SE...|\n",
      "|3月〜！！\n",
      "\n",
      "受験受かってはぴはぴ...|\n",
      "|RT @SunDevilWBB: ...|\n",
      "|RT @DPrez304: Div...|\n",
      "|愛媛のIBISっていう上級大尉にレ...|\n",
      "|Karthik kickstart...|\n",
      "|I just entered th...|\n",
      "|Roadblock at the ...|\n",
      "|RT @NRsports_NC: ...|\n",
      "|I just entered th...|\n",
      "|First drawing on ...|\n",
      "|Mala idea venir a...|\n",
      "|@ibisiro Ibis noO...|\n",
      "|Fairmont Jakarta:...|\n",
      "|RT @SunDevilWBB: ...|\n",
      "|Le Club AccorHote...|\n",
      "|RT @JoshMLowe: 17...|\n",
      "|#NoTePases Te qui...|\n",
      "|同じibisで塗ったっていうのが信...|\n",
      "|@beltrandelrio @F...|\n",
      "+--------------------+\n",
      "only showing top 20 rows\n",
      "\n"
     ]
    }
   ],
   "source": [
    "df.show()"
   ]
  },
  {
   "cell_type": "code",
   "execution_count": 19,
   "metadata": {},
   "outputs": [
    {
     "data": {
      "text/html": [
       "<div>\n",
       "<style scoped>\n",
       "    .dataframe tbody tr th:only-of-type {\n",
       "        vertical-align: middle;\n",
       "    }\n",
       "\n",
       "    .dataframe tbody tr th {\n",
       "        vertical-align: top;\n",
       "    }\n",
       "\n",
       "    .dataframe thead th {\n",
       "        text-align: right;\n",
       "    }\n",
       "</style>\n",
       "<table border=\"1\" class=\"dataframe\">\n",
       "  <thead>\n",
       "    <tr style=\"text-align: right;\">\n",
       "      <th></th>\n",
       "      <th>_1</th>\n",
       "    </tr>\n",
       "  </thead>\n",
       "  <tbody>\n",
       "    <tr>\n",
       "      <th>0</th>\n",
       "      <td>BOYS: FAIRMONT SENIOR POLAR BEARS 77, WYOMING ...</td>\n",
       "    </tr>\n",
       "    <tr>\n",
       "      <th>1</th>\n",
       "      <td>3月〜！！\\n\\n受験受かってはぴはぴになりながら従姉妹の家で遊んだのが1番楽しかった…\\n...</td>\n",
       "    </tr>\n",
       "    <tr>\n",
       "      <th>2</th>\n",
       "      <td>RT @SunDevilWBB: Hey @NkealHarry15,\\n\\nWe’re b...</td>\n",
       "    </tr>\n",
       "    <tr>\n",
       "      <th>3</th>\n",
       "      <td>RT @DPrez304: Division 1 schools are sleeping ...</td>\n",
       "    </tr>\n",
       "    <tr>\n",
       "      <th>4</th>\n",
       "      <td>愛媛のIBISっていう上級大尉にレクスで覚醒使わず2落ちという捨てゲーされた😭</td>\n",
       "    </tr>\n",
       "  </tbody>\n",
       "</table>\n",
       "</div>"
      ],
      "text/plain": [
       "                                                  _1\n",
       "0  BOYS: FAIRMONT SENIOR POLAR BEARS 77, WYOMING ...\n",
       "1  3月〜！！\\n\\n受験受かってはぴはぴになりながら従姉妹の家で遊んだのが1番楽しかった…\\n...\n",
       "2  RT @SunDevilWBB: Hey @NkealHarry15,\\n\\nWe’re b...\n",
       "3  RT @DPrez304: Division 1 schools are sleeping ...\n",
       "4            愛媛のIBISっていう上級大尉にレクスで覚醒使わず2落ちという捨てゲーされた😭"
      ]
     },
     "execution_count": 19,
     "metadata": {},
     "output_type": "execute_result"
    }
   ],
   "source": [
    "pandas_df = df.toPandas()\n",
    "pandas_df.head()"
   ]
  }
 ],
 "metadata": {
  "anaconda-cloud": {},
  "kernelspec": {
   "display_name": "Python 3",
   "language": "python",
   "name": "python3"
  },
  "language_info": {
   "codemirror_mode": {
    "name": "ipython",
    "version": 3
   },
   "file_extension": ".py",
   "mimetype": "text/x-python",
   "name": "python",
   "nbconvert_exporter": "python",
   "pygments_lexer": "ipython3",
   "version": "3.6.7"
  },
  "toc": {
   "base_numbering": 1,
   "nav_menu": {},
   "number_sections": true,
   "sideBar": true,
   "skip_h1_title": false,
   "title_cell": "Table of Contents",
   "title_sidebar": "Contents",
   "toc_cell": false,
   "toc_position": {},
   "toc_section_display": true,
   "toc_window_display": false
  },
  "varInspector": {
   "cols": {
    "lenName": 16,
    "lenType": 16,
    "lenVar": 40
   },
   "kernels_config": {
    "python": {
     "delete_cmd_postfix": "",
     "delete_cmd_prefix": "del ",
     "library": "var_list.py",
     "varRefreshCmd": "print(var_dic_list())"
    },
    "r": {
     "delete_cmd_postfix": ") ",
     "delete_cmd_prefix": "rm(",
     "library": "var_list.r",
     "varRefreshCmd": "cat(var_dic_list()) "
    }
   },
   "types_to_exclude": [
    "module",
    "function",
    "builtin_function_or_method",
    "instance",
    "_Feature"
   ],
   "window_display": false
  }
 },
 "nbformat": 4,
 "nbformat_minor": 2
}
